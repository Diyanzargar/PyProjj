{
 "cells": [
  {
   "cell_type": "code",
   "execution_count": 1,
   "id": "9c7b677b-a1ba-4a1c-a280-f8201dccb079",
   "metadata": {},
   "outputs": [
    {
     "name": "stdout",
     "output_type": "stream",
     "text": [
      "Requirement already satisfied: yfinance in c:\\users\\asus\\anaconda3\\lib\\site-packages (0.2.56)\n",
      "Requirement already satisfied: pandas>=1.3.0 in c:\\users\\asus\\anaconda3\\lib\\site-packages (from yfinance) (2.2.2)\n",
      "Requirement already satisfied: numpy>=1.16.5 in c:\\users\\asus\\anaconda3\\lib\\site-packages (from yfinance) (1.26.4)\n",
      "Requirement already satisfied: requests>=2.31 in c:\\users\\asus\\anaconda3\\lib\\site-packages (from yfinance) (2.32.3)\n",
      "Requirement already satisfied: multitasking>=0.0.7 in c:\\users\\asus\\anaconda3\\lib\\site-packages (from yfinance) (0.0.11)\n",
      "Requirement already satisfied: platformdirs>=2.0.0 in c:\\users\\asus\\anaconda3\\lib\\site-packages (from yfinance) (3.10.0)\n",
      "Requirement already satisfied: pytz>=2022.5 in c:\\users\\asus\\anaconda3\\lib\\site-packages (from yfinance) (2024.1)\n",
      "Requirement already satisfied: frozendict>=2.3.4 in c:\\users\\asus\\anaconda3\\lib\\site-packages (from yfinance) (2.4.2)\n",
      "Requirement already satisfied: peewee>=3.16.2 in c:\\users\\asus\\anaconda3\\lib\\site-packages (from yfinance) (3.17.9)\n",
      "Requirement already satisfied: beautifulsoup4>=4.11.1 in c:\\users\\asus\\anaconda3\\lib\\site-packages (from yfinance) (4.12.3)\n",
      "Requirement already satisfied: soupsieve>1.2 in c:\\users\\asus\\anaconda3\\lib\\site-packages (from beautifulsoup4>=4.11.1->yfinance) (2.5)\n",
      "Requirement already satisfied: python-dateutil>=2.8.2 in c:\\users\\asus\\anaconda3\\lib\\site-packages (from pandas>=1.3.0->yfinance) (2.9.0.post0)\n",
      "Requirement already satisfied: tzdata>=2022.7 in c:\\users\\asus\\anaconda3\\lib\\site-packages (from pandas>=1.3.0->yfinance) (2023.3)\n",
      "Requirement already satisfied: charset-normalizer<4,>=2 in c:\\users\\asus\\anaconda3\\lib\\site-packages (from requests>=2.31->yfinance) (3.3.2)\n",
      "Requirement already satisfied: idna<4,>=2.5 in c:\\users\\asus\\anaconda3\\lib\\site-packages (from requests>=2.31->yfinance) (3.7)\n",
      "Requirement already satisfied: urllib3<3,>=1.21.1 in c:\\users\\asus\\anaconda3\\lib\\site-packages (from requests>=2.31->yfinance) (2.2.3)\n",
      "Requirement already satisfied: certifi>=2017.4.17 in c:\\users\\asus\\anaconda3\\lib\\site-packages (from requests>=2.31->yfinance) (2025.1.31)\n",
      "Requirement already satisfied: six>=1.5 in c:\\users\\asus\\anaconda3\\lib\\site-packages (from python-dateutil>=2.8.2->pandas>=1.3.0->yfinance) (1.16.0)\n",
      "Requirement already satisfied: bs4 in c:\\users\\asus\\anaconda3\\lib\\site-packages (0.0.2)\n",
      "Requirement already satisfied: beautifulsoup4 in c:\\users\\asus\\anaconda3\\lib\\site-packages (from bs4) (4.12.3)\n",
      "Requirement already satisfied: soupsieve>1.2 in c:\\users\\asus\\anaconda3\\lib\\site-packages (from beautifulsoup4->bs4) (2.5)\n",
      "Requirement already satisfied: nbformat in c:\\users\\asus\\anaconda3\\lib\\site-packages (5.10.4)\n",
      "Requirement already satisfied: fastjsonschema>=2.15 in c:\\users\\asus\\anaconda3\\lib\\site-packages (from nbformat) (2.16.2)\n",
      "Requirement already satisfied: jsonschema>=2.6 in c:\\users\\asus\\anaconda3\\lib\\site-packages (from nbformat) (4.23.0)\n",
      "Requirement already satisfied: jupyter-core!=5.0.*,>=4.12 in c:\\users\\asus\\anaconda3\\lib\\site-packages (from nbformat) (5.7.2)\n",
      "Requirement already satisfied: traitlets>=5.1 in c:\\users\\asus\\anaconda3\\lib\\site-packages (from nbformat) (5.14.3)\n",
      "Requirement already satisfied: attrs>=22.2.0 in c:\\users\\asus\\anaconda3\\lib\\site-packages (from jsonschema>=2.6->nbformat) (23.1.0)\n",
      "Requirement already satisfied: jsonschema-specifications>=2023.03.6 in c:\\users\\asus\\anaconda3\\lib\\site-packages (from jsonschema>=2.6->nbformat) (2023.7.1)\n",
      "Requirement already satisfied: referencing>=0.28.4 in c:\\users\\asus\\anaconda3\\lib\\site-packages (from jsonschema>=2.6->nbformat) (0.30.2)\n",
      "Requirement already satisfied: rpds-py>=0.7.1 in c:\\users\\asus\\anaconda3\\lib\\site-packages (from jsonschema>=2.6->nbformat) (0.10.6)\n",
      "Requirement already satisfied: platformdirs>=2.5 in c:\\users\\asus\\anaconda3\\lib\\site-packages (from jupyter-core!=5.0.*,>=4.12->nbformat) (3.10.0)\n",
      "Requirement already satisfied: pywin32>=300 in c:\\users\\asus\\anaconda3\\lib\\site-packages (from jupyter-core!=5.0.*,>=4.12->nbformat) (305.1)\n",
      "Requirement already satisfied: plotly in c:\\users\\asus\\anaconda3\\lib\\site-packages (6.0.1)\n",
      "Requirement already satisfied: narwhals>=1.15.1 in c:\\users\\asus\\anaconda3\\lib\\site-packages (from plotly) (1.37.0)\n",
      "Requirement already satisfied: packaging in c:\\users\\asus\\anaconda3\\lib\\site-packages (from plotly) (24.1)\n"
     ]
    }
   ],
   "source": [
    "!pip install yfinance\n",
    "!pip install bs4\n",
    "!pip install nbformat\n",
    "!pip install --upgrade plotly"
   ]
  },
  {
   "cell_type": "code",
   "execution_count": 2,
   "id": "3b9418d2-c60f-48ab-aedf-0344c716f1f9",
   "metadata": {},
   "outputs": [],
   "source": [
    "import yfinance as yf\n",
    "import pandas as pd\n",
    "import requests\n",
    "from bs4 import BeautifulSoup\n",
    "import plotly.graph_objects as go\n",
    "from plotly.subplots import make_subplots"
   ]
  },
  {
   "cell_type": "code",
   "execution_count": 3,
   "id": "db9dcf7a-c22f-41d2-b6bb-8ab822790b9f",
   "metadata": {},
   "outputs": [],
   "source": [
    "import plotly.io as pio\n",
    "pio.renderers.default = \"iframe\""
   ]
  },
  {
   "cell_type": "code",
   "execution_count": 4,
   "id": "e694790d-c558-47c7-9e5a-b5d8b4576218",
   "metadata": {},
   "outputs": [],
   "source": [
    "import warnings\n",
    "# Ignore all warnings\n",
    "warnings.filterwarnings(\"ignore\", category=FutureWarning)"
   ]
  },
  {
   "cell_type": "markdown",
   "id": "b81251cb-ffb9-44b0-8028-38aa031c7b91",
   "metadata": {},
   "source": [
    "In this section, we define the function make_graph. You don't have to know how the function works, you should only care about the inputs. It takes a dataframe with stock data (dataframe must contain Date and Close columns), a dataframe with revenue data (dataframe must contain Date and Revenue columns), and the name of the stock."
   ]
  },
  {
   "cell_type": "code",
   "execution_count": 5,
   "id": "93dfdb59-0641-433a-b39f-9d787ed71fea",
   "metadata": {},
   "outputs": [],
   "source": [
    "def make_graph(stock_data, revenue_data, stock):\n",
    "    fig = make_subplots(rows=2, cols=1, shared_xaxes=True, subplot_titles=(\"Historical Share Price\", \"Historical Revenue\"), vertical_spacing = .3)\n",
    "    stock_data_specific = stock_data[stock_data.Date <= '2021-06-14']\n",
    "    revenue_data_specific = revenue_data[revenue_data.Date <= '2021-04-30']\n",
    "    fig.add_trace(go.Scatter(x=pd.to_datetime(stock_data_specific.Date, infer_datetime_format=True), y=stock_data_specific.Close.astype(\"float\"), name=\"Share Price\"), row=1, col=1)\n",
    "    fig.add_trace(go.Scatter(x=pd.to_datetime(revenue_data_specific.Date, infer_datetime_format=True), y=revenue_data_specific.Revenue.astype(\"float\"), name=\"Revenue\"), row=2, col=1)\n",
    "    fig.update_xaxes(title_text=\"Date\", row=1, col=1)\n",
    "    fig.update_xaxes(title_text=\"Date\", row=2, col=1)\n",
    "    fig.update_yaxes(title_text=\"Price ($US)\", row=1, col=1)\n",
    "    fig.update_yaxes(title_text=\"Revenue ($US Millions)\", row=2, col=1)\n",
    "    fig.update_layout(showlegend=False,\n",
    "    height=900,\n",
    "    title=stock,\n",
    "    xaxis_rangeslider_visible=True)\n",
    "    fig.show()\n",
    "    from IPython.display import display, HTML\n",
    "    fig_html = fig.to_html()\n",
    "    display(HTML(fig_html))\n"
   ]
  },
  {
   "cell_type": "markdown",
   "id": "5a8b7ca7-2e08-4af2-a0a8-9efb41a8cdea",
   "metadata": {},
   "source": [
    "Question 1: Use yfinance to Extract Stock Data\n",
    "Using the Ticker function enter the ticker symbol of the stock we want to extract data on to create a ticker object. The stock is Tesla and its ticker symbol is TSLA."
   ]
  },
  {
   "cell_type": "code",
   "execution_count": 6,
   "id": "610f85a4-c7fc-4585-b9fe-40aac949e2be",
   "metadata": {},
   "outputs": [
    {
     "name": "stdout",
     "output_type": "stream",
     "text": [
      "                       Date      Open      High       Low     Close  \\\n",
      "0 2010-06-29 00:00:00-04:00  1.266667  1.666667  1.169333  1.592667   \n",
      "1 2010-06-30 00:00:00-04:00  1.719333  2.028000  1.553333  1.588667   \n",
      "2 2010-07-01 00:00:00-04:00  1.666667  1.728000  1.351333  1.464000   \n",
      "3 2010-07-02 00:00:00-04:00  1.533333  1.540000  1.247333  1.280000   \n",
      "4 2010-07-06 00:00:00-04:00  1.333333  1.333333  1.055333  1.074000   \n",
      "\n",
      "      Volume  Dividends  Stock Splits  \n",
      "0  281494500        0.0           0.0  \n",
      "1  257806500        0.0           0.0  \n",
      "2  123282000        0.0           0.0  \n",
      "3   77097000        0.0           0.0  \n",
      "4  103003500        0.0           0.0  \n"
     ]
    }
   ],
   "source": [
    "tesla = yf.Ticker(\"TSLA\")\n",
    "\n",
    "# Extract stock information with period set to \"max\" to get maximum historical data\n",
    "tesla_data = tesla.history(period=\"max\")\n",
    "\n",
    "# Reset index to make Date a column instead of index\n",
    "tesla_data = tesla_data.reset_index()\n",
    "\n",
    "# Display the first few rows to verify the data\n",
    "print(tesla_data.head())"
   ]
  },
  {
   "cell_type": "markdown",
   "id": "fe0a0adb-c225-45f2-83fa-2449ad01344e",
   "metadata": {},
   "source": [
    "Using the ticker object and the function history extract stock information and save it in a dataframe named tesla_data. Set the period parameter to \"max\" so we get information for the maximum amount of time."
   ]
  },
  {
   "cell_type": "code",
   "execution_count": 7,
   "id": "c95664c4-b514-4a54-9ef7-c4772680e87a",
   "metadata": {},
   "outputs": [
    {
     "name": "stdout",
     "output_type": "stream",
     "text": [
      "                               Open      High       Low     Close     Volume  \\\n",
      "Date                                                                           \n",
      "2010-06-29 00:00:00-04:00  1.266667  1.666667  1.169333  1.592667  281494500   \n",
      "2010-06-30 00:00:00-04:00  1.719333  2.028000  1.553333  1.588667  257806500   \n",
      "2010-07-01 00:00:00-04:00  1.666667  1.728000  1.351333  1.464000  123282000   \n",
      "2010-07-02 00:00:00-04:00  1.533333  1.540000  1.247333  1.280000   77097000   \n",
      "2010-07-06 00:00:00-04:00  1.333333  1.333333  1.055333  1.074000  103003500   \n",
      "\n",
      "                           Dividends  Stock Splits  \n",
      "Date                                                \n",
      "2010-06-29 00:00:00-04:00        0.0           0.0  \n",
      "2010-06-30 00:00:00-04:00        0.0           0.0  \n",
      "2010-07-01 00:00:00-04:00        0.0           0.0  \n",
      "2010-07-02 00:00:00-04:00        0.0           0.0  \n",
      "2010-07-06 00:00:00-04:00        0.0           0.0  \n"
     ]
    }
   ],
   "source": [
    "tesla_data = tesla.history(period=\"max\")\n",
    "\n",
    "# Display the first few rows to verify the data\n",
    "print(tesla_data.head())"
   ]
  },
  {
   "cell_type": "markdown",
   "id": "b048747d-eac1-4695-a1ed-5b781cf0b00b",
   "metadata": {},
   "source": [
    "Reset the index using the reset_index(inplace=True) function on the tesla_data DataFrame and display the first five rows of the tesla_data dataframe using the head function. Take a screenshot of the results and code from the beginning of Question 1 to the results below."
   ]
  },
  {
   "cell_type": "code",
   "execution_count": 9,
   "id": "04c366c7-8d25-4afb-9047-ee793f665cb8",
   "metadata": {},
   "outputs": [
    {
     "name": "stdout",
     "output_type": "stream",
     "text": [
      "                       Date      Open      High       Low     Close  \\\n",
      "0 2010-06-29 00:00:00-04:00  1.266667  1.666667  1.169333  1.592667   \n",
      "1 2010-06-30 00:00:00-04:00  1.719333  2.028000  1.553333  1.588667   \n",
      "2 2010-07-01 00:00:00-04:00  1.666667  1.728000  1.351333  1.464000   \n",
      "3 2010-07-02 00:00:00-04:00  1.533333  1.540000  1.247333  1.280000   \n",
      "4 2010-07-06 00:00:00-04:00  1.333333  1.333333  1.055333  1.074000   \n",
      "\n",
      "      Volume  Dividends  Stock Splits  \n",
      "0  281494500        0.0           0.0  \n",
      "1  257806500        0.0           0.0  \n",
      "2  123282000        0.0           0.0  \n",
      "3   77097000        0.0           0.0  \n",
      "4  103003500        0.0           0.0  \n"
     ]
    }
   ],
   "source": [
    "import yfinance as yf\n",
    "\n",
    "# Question 1: Use yfinance to Extract Stock Data\n",
    "tesla = yf.Ticker(\"TSLA\")\n",
    "\n",
    "# Extract stock information with period set to \"max\" to get maximum historical data\n",
    "tesla_data = tesla.history(period=\"max\")\n",
    "\n",
    "# Reset index to make Date a column instead of index\n",
    "tesla_data.reset_index(inplace=True)\n",
    "\n",
    "# Display the first five rows of the tesla_data dataframe\n",
    "print(tesla_data.head())\n"
   ]
  },
  {
   "cell_type": "markdown",
   "id": "70b4cc5a-e509-4054-b04f-92520a2cc2bb",
   "metadata": {},
   "source": [
    "Question 2: Use Webscraping to Extract Tesla Revenue Data"
   ]
  },
  {
   "cell_type": "code",
   "execution_count": 10,
   "id": "bc29bac3-0886-46a5-8c0f-7e3d620409d3",
   "metadata": {},
   "outputs": [
    {
     "name": "stdout",
     "output_type": "stream",
     "text": [
      "Webpage downloaded successfully.\n"
     ]
    }
   ],
   "source": [
    "import requests\n",
    "\n",
    "url = \"https://cf-courses-data.s3.us.cloud-object-storage.appdomain.cloud/IBMDeveloperSkillsNetwork-PY0220EN-SkillsNetwork/labs/project/revenue.htm\"\n",
    "\n",
    "# Send a GET request to the URL\n",
    "response = requests.get(url)\n",
    "\n",
    "# Check if the request was successful (status code 200)\n",
    "if response.status_code == 200:\n",
    "    # Save the response text as html_data\n",
    "    html_data = response.text\n",
    "    print(\"Webpage downloaded successfully.\")\n",
    "else:\n",
    "    print(f\"Failed to download the webpage. Status code: {response.status_code}\")\n",
    "    html_data = None  # or handle the error as needed"
   ]
  },
  {
   "cell_type": "markdown",
   "id": "d7050a20-0a2b-4282-a9c2-88324f316e0f",
   "metadata": {},
   "source": [
    "Parse the html data using beautiful_soup using parser i.e html5lib or html.parser."
   ]
  },
  {
   "cell_type": "code",
   "execution_count": 11,
   "id": "6ec197d5-5652-4c96-bf32-5085ed3ad235",
   "metadata": {},
   "outputs": [
    {
     "name": "stdout",
     "output_type": "stream",
     "text": [
      "Title of the webpage: Tesla Revenue 2010-2022 | TSLA | MacroTrends\n"
     ]
    }
   ],
   "source": [
    "from bs4 import BeautifulSoup\n",
    "\n",
    "# Parse the HTML data using BeautifulSoup\n",
    "# Option 1: Using html.parser (built-in, no extra install needed)\n",
    "soup = BeautifulSoup(html_data, 'html.parser')\n",
    "\n",
    "# Option 2: Using html5lib (slower but more lenient with broken HTML)\n",
    "# soup = BeautifulSoup(html_data, 'html5lib')\n",
    "\n",
    "# Now you can use BeautifulSoup methods to extract data\n",
    "# Example: Extract the title of the webpage\n",
    "title = soup.title\n",
    "print(\"Title of the webpage:\", title.text if title else \"No title found\")\n"
   ]
  },
  {
   "cell_type": "markdown",
   "id": "9865e1f9-527b-4edc-9149-2e5943fb9e6c",
   "metadata": {},
   "source": [
    "Using BeautifulSoup or the read_html function extract the table with Tesla Revenue and store it into a dataframe named tesla_revenue. The dataframe should have columns Date and Revenue.\n",
    "\n",
    "Step-by-step instructions\n",
    "\n",
    "Here are the step-by-step instructions:\n",
    "\n",
    "1. Create an Empty DataFrame\n",
    "2. Find the Relevant Table\n",
    "3. Check for the Tesla Quarterly Revenue Table\n",
    "4. Iterate Through Rows in the Table Body\n",
    "5. Extract Data from Columns\n",
    "6. Append Data to the DataFrame"
   ]
  },
  {
   "cell_type": "code",
   "execution_count": 12,
   "id": "70457279-64e7-4b8b-adcf-31adff5aa163",
   "metadata": {},
   "outputs": [
    {
     "name": "stdout",
     "output_type": "stream",
     "text": [
      "         Date  Revenue\n",
      "0  2022-09-30  $21,454\n",
      "1  2022-06-30  $16,934\n",
      "2  2022-03-31  $18,756\n",
      "3  2021-12-31  $17,719\n",
      "4  2021-09-30  $13,757\n"
     ]
    }
   ],
   "source": [
    "import pandas as pd\n",
    "from bs4 import BeautifulSoup\n",
    "\n",
    "# Parse the HTML using BeautifulSoup\n",
    "soup = BeautifulSoup(html_data, 'html.parser')\n",
    "\n",
    "# Step 1: Create an empty DataFrame with columns 'Date' and 'Revenue'\n",
    "tesla_revenue = pd.DataFrame(columns=[\"Date\", \"Revenue\"])\n",
    "\n",
    "# Step 2: Find all tables in the HTML\n",
    "tables = soup.find_all('table')\n",
    "\n",
    "# Step 3: Locate the Tesla Quarterly Revenue table\n",
    "# (Assuming the correct table has \"Tesla Quarterly Revenue\" in it)\n",
    "for table in tables:\n",
    "    if \"Tesla Quarterly Revenue\" in str(table):\n",
    "        # Step 4: Iterate through each row in the table body (skip header)\n",
    "        for row in table.find_all('tr')[1:]:  # Skip header row\n",
    "            # Step 5: Extract data from each column (Date & Revenue)\n",
    "            cols = row.find_all('td')\n",
    "            if len(cols) >= 2:  # Ensure there are at least 2 columns\n",
    "                date = cols[0].get_text(strip=True)\n",
    "                revenue = cols[1].get_text(strip=True)\n",
    "                \n",
    "                # Step 6: Append data to DataFrame\n",
    "                tesla_revenue = pd.concat([\n",
    "                    tesla_revenue,\n",
    "                    pd.DataFrame({\"Date\": [date], \"Revenue\": [revenue]})\n",
    "                ], ignore_index=True)\n",
    "\n",
    "# Display the DataFrame\n",
    "print(tesla_revenue.head())"
   ]
  },
  {
   "cell_type": "markdown",
   "id": "a033232d-edd9-4062-b81e-5b1d6574fe91",
   "metadata": {},
   "source": [
    "Execute the following line to remove the comma and dollar sign from the Revenue column."
   ]
  },
  {
   "cell_type": "code",
   "execution_count": 13,
   "id": "534127ef-2cb1-4c60-a9c8-9eb0483194f7",
   "metadata": {},
   "outputs": [
    {
     "name": "stdout",
     "output_type": "stream",
     "text": [
      "         Date Revenue\n",
      "0  2023-09-30  23350M\n",
      "1  2023-06-30  24927M\n"
     ]
    }
   ],
   "source": [
    "\n",
    "import pandas as pd\n",
    "\n",
    "# Sample DataFrame (for illustration)\n",
    "tesla_revenue = pd.DataFrame({\n",
    "    \"Date\": [\"2023-09-30\", \"2023-06-30\"],\n",
    "    \"Revenue\": [\"$23,350M\", \"$24,927M\"]\n",
    "})\n",
    "\n",
    "# Remove $ and , from Revenue\n",
    "tesla_revenue[\"Revenue\"] = tesla_revenue[\"Revenue\"].str.replace('$', '').str.replace(',', '')\n",
    "\n",
    "# Display cleaned DataFrame\n",
    "print(tesla_revenue)"
   ]
  },
  {
   "cell_type": "markdown",
   "id": "c5906099-7775-4eaa-b1fe-f4478d99dd3a",
   "metadata": {},
   "source": [
    "Execute the following lines to remove an null or empty strings in the Revenue column."
   ]
  },
  {
   "cell_type": "code",
   "execution_count": 14,
   "id": "0b9e6dd5-9e05-4c27-804a-42b6bd3ce9c8",
   "metadata": {},
   "outputs": [],
   "source": [
    "tesla_revenue.dropna(inplace=True)\n",
    "\n",
    "tesla_revenue = tesla_revenue[tesla_revenue['Revenue'] != \"\"]"
   ]
  },
  {
   "cell_type": "markdown",
   "id": "335bd1f2-bca3-4654-ac48-f062b78ce9c3",
   "metadata": {},
   "source": [
    "Display the last 5 row of the tesla_revenue dataframe using the tail function. Take a screenshot of the results."
   ]
  },
  {
   "cell_type": "code",
   "execution_count": 15,
   "id": "40ee1b2f-28ce-482b-b87c-e3d8f54e8168",
   "metadata": {},
   "outputs": [
    {
     "name": "stdout",
     "output_type": "stream",
     "text": [
      "         Date Revenue\n",
      "0  2023-09-30  23350M\n",
      "1  2023-06-30  24927M\n"
     ]
    }
   ],
   "source": [
    "# Display the last 5 rows\n",
    "last_5_rows = tesla_revenue.tail()\n",
    "print(last_5_rows)"
   ]
  },
  {
   "cell_type": "markdown",
   "id": "23f62e3f-a382-4b5a-86c5-d4cc679bc2fe",
   "metadata": {},
   "source": [
    "Question 3: Use yfinance to Extract Stock Data\n",
    "Using the Ticker function enter the ticker symbol of the stock we want to extract data on to create a ticker object. The stock is GameStop and its ticker symbol is GME."
   ]
  },
  {
   "cell_type": "code",
   "execution_count": 16,
   "id": "6105a345-7d73-447f-82a4-e4d087ee125b",
   "metadata": {},
   "outputs": [
    {
     "name": "stdout",
     "output_type": "stream",
     "text": [
      "                             Open    High     Low   Close    Volume  \\\n",
      "Date                                                                  \n",
      "2020-04-28 00:00:00-04:00  1.4800  1.5100  1.2650  1.4100  20800800   \n",
      "2020-04-29 00:00:00-04:00  1.4575  1.5225  1.3625  1.5100  13478400   \n",
      "2020-04-30 00:00:00-04:00  1.4675  1.4950  1.4100  1.4325   8693200   \n",
      "2020-05-01 00:00:00-04:00  1.4125  1.5450  1.3625  1.5125  16022400   \n",
      "2020-05-04 00:00:00-04:00  1.4600  1.4825  1.3500  1.3700  16272400   \n",
      "\n",
      "                           Dividends  Stock Splits  \n",
      "Date                                                \n",
      "2020-04-28 00:00:00-04:00        0.0           0.0  \n",
      "2020-04-29 00:00:00-04:00        0.0           0.0  \n",
      "2020-04-30 00:00:00-04:00        0.0           0.0  \n",
      "2020-05-01 00:00:00-04:00        0.0           0.0  \n",
      "2020-05-04 00:00:00-04:00        0.0           0.0  \n"
     ]
    }
   ],
   "source": [
    "import yfinance as yf\n",
    "\n",
    "# Create a Ticker object for GameStop (GME)\n",
    "gme_ticker = yf.Ticker(\"GME\")\n",
    "gme_data = gme_ticker.history(period=\"5y\")  # Adjust period as needed (e.g., \"1mo\", \"max\")\n",
    "print(gme_data.head())"
   ]
  },
  {
   "cell_type": "markdown",
   "id": "7626946b-9e8b-49e7-a16a-4e6ff01e47da",
   "metadata": {},
   "source": [
    "Using the ticker object and the function history extract stock information and save it in a dataframe named gme_data. Set the period parameter to \"max\" so we get information for the maximum amount of time."
   ]
  },
  {
   "cell_type": "code",
   "execution_count": 17,
   "id": "e0a1195f-149e-4b70-9493-6ab857a38f76",
   "metadata": {},
   "outputs": [
    {
     "name": "stdout",
     "output_type": "stream",
     "text": [
      "                               Open      High       Low     Close    Volume  \\\n",
      "Date                                                                          \n",
      "2002-02-13 00:00:00-05:00  1.620128  1.693350  1.603296  1.691667  76216000   \n",
      "2002-02-14 00:00:00-05:00  1.712707  1.716074  1.670626  1.683250  11021600   \n",
      "2002-02-15 00:00:00-05:00  1.683250  1.687458  1.658001  1.674834   8389600   \n",
      "2002-02-19 00:00:00-05:00  1.666418  1.666418  1.578047  1.607504   7410400   \n",
      "2002-02-20 00:00:00-05:00  1.615920  1.662209  1.603296  1.662209   6892800   \n",
      "\n",
      "                           Dividends  Stock Splits  \n",
      "Date                                                \n",
      "2002-02-13 00:00:00-05:00        0.0           0.0  \n",
      "2002-02-14 00:00:00-05:00        0.0           0.0  \n",
      "2002-02-15 00:00:00-05:00        0.0           0.0  \n",
      "2002-02-19 00:00:00-05:00        0.0           0.0  \n",
      "2002-02-20 00:00:00-05:00        0.0           0.0  \n"
     ]
    }
   ],
   "source": [
    "import yfinance as yf\n",
    "\n",
    "# Create a Ticker object for GameStop (GME)\n",
    "gme_ticker = yf.Ticker(\"GME\")\n",
    "\n",
    "# Extract historical data for the maximum available period\n",
    "gme_data = gme_ticker.history(period=\"max\")\n",
    "\n",
    "# Display the first 5 rows\n",
    "print(gme_data.head())"
   ]
  },
  {
   "cell_type": "markdown",
   "id": "4d791daa-9fbb-4f05-9e94-71756234cdd5",
   "metadata": {},
   "source": [
    "Reset the index using the reset_index(inplace=True) function on the gme_data DataFrame and display the first five rows of the gme_data dataframe using the head function. Take a screenshot of the results and code from the beginning of Question 3 to the results below."
   ]
  },
  {
   "cell_type": "code",
   "execution_count": 18,
   "id": "4422320d-fd13-401b-8a7e-70500682eadb",
   "metadata": {},
   "outputs": [
    {
     "name": "stdout",
     "output_type": "stream",
     "text": [
      "                       Date      Open      High       Low     Close    Volume  \\\n",
      "0 2002-02-13 00:00:00-05:00  1.620129  1.693350  1.603296  1.691667  76216000   \n",
      "1 2002-02-14 00:00:00-05:00  1.712707  1.716074  1.670626  1.683250  11021600   \n",
      "2 2002-02-15 00:00:00-05:00  1.683250  1.687458  1.658002  1.674834   8389600   \n",
      "3 2002-02-19 00:00:00-05:00  1.666417  1.666417  1.578047  1.607504   7410400   \n",
      "4 2002-02-20 00:00:00-05:00  1.615920  1.662210  1.603296  1.662210   6892800   \n",
      "\n",
      "   Dividends  Stock Splits  \n",
      "0        0.0           0.0  \n",
      "1        0.0           0.0  \n",
      "2        0.0           0.0  \n",
      "3        0.0           0.0  \n",
      "4        0.0           0.0  \n"
     ]
    }
   ],
   "source": [
    "# Question 3: Extract GameStop (GME) Stock Data with yfinance\n",
    "import yfinance as yf\n",
    "\n",
    "# Step 1: Create a Ticker object for GameStop (GME)\n",
    "gme_ticker = yf.Ticker(\"GME\")\n",
    "\n",
    "# Step 2: Extract historical data with period=\"max\"\n",
    "gme_data = gme_ticker.history(period=\"max\")\n",
    "\n",
    "# Step 3: Reset the index (move Date to a column)\n",
    "gme_data.reset_index(inplace=True)\n",
    "\n",
    "# Step 4: Display the first 5 rows\n",
    "print(gme_data.head())"
   ]
  },
  {
   "cell_type": "markdown",
   "id": "b0dd886a-5be1-4d59-8bba-37bc4ee13b25",
   "metadata": {},
   "source": [
    "Question 4: Use Webscraping to Extract GME Revenue Data\n",
    "Use the requests library to download the webpage https://cf-courses-data.s3.us.cloud-object-storage.appdomain.cloud/IBMDeveloperSkillsNetwork-PY0220EN-SkillsNetwork/labs/project/stock.html. Save the text of the response as a variable named html_data_2."
   ]
  },
  {
   "cell_type": "code",
   "execution_count": 20,
   "id": "82b3000b-dd20-4e1d-adb5-a9b7cce85511",
   "metadata": {},
   "outputs": [
    {
     "name": "stdout",
     "output_type": "stream",
     "text": [
      "Webpage downloaded successfully!\n",
      "First 100 characters:\n",
      "<!DOCTYPE html>\n",
      "<!-- saved from url=(0105)https://web.archive.org/web/20200814131437/https://www.mac...\n"
     ]
    }
   ],
   "source": [
    "import requests\n",
    "\n",
    "# URL of the webpage containing stock data\n",
    "url = \"https://cf-courses-data.s3.us.cloud-object-storage.appdomain.cloud/IBMDeveloperSkillsNetwork-PY0220EN-SkillsNetwork/labs/project/stock.html\"\n",
    "\n",
    "# Send a GET request to download the webpage\n",
    "response = requests.get(url)\n",
    "\n",
    "# Check if the request was successful (status code 200)\n",
    "if response.status_code == 200:\n",
    "    # Save the HTML content to html_data_2\n",
    "    html_data_2 = response.text\n",
    "    print(\"Webpage downloaded successfully!\")\n",
    "    print(f\"First 100 characters:\\n{html_data_2[:100]}...\")  # Preview first 100 characters\n",
    "else:\n",
    "    print(f\"Failed to download webpage. Status code: {response.status_code}\")\n",
    "    html_data_2 = None  # Handle the error case"
   ]
  },
  {
   "cell_type": "markdown",
   "id": "fc40f637-dfce-4930-acb4-d8c2320254b6",
   "metadata": {},
   "source": [
    "Parse the html data using beautiful_soup using parser i.e html5lib or html.parser."
   ]
  },
  {
   "cell_type": "code",
   "execution_count": 22,
   "id": "f49a8d19-c910-458b-85a3-d371fc30985b",
   "metadata": {},
   "outputs": [
    {
     "name": "stdout",
     "output_type": "stream",
     "text": [
      "Successfully parsed with html.parser!\n",
      "Found 6 table(s) in the HTML\n",
      "<table class=\"historical_data_table table\">\n",
      " <thead>\n",
      "  <tr>\n",
      "   <th colspan=\"2\" style=\"text-align:center\">\n",
      "    GameStop Annual Revenue\n",
      "    <br/>\n",
      "    <span style=\"font-size:14px;\">\n",
      "     (Millions of US \n"
     ]
    }
   ],
   "source": [
    "from bs4 import BeautifulSoup\n",
    "\n",
    "# Parse with html.parser (no additional install needed)\n",
    "soup = BeautifulSoup(html_data_2, 'html.parser')\n",
    "print(\"Successfully parsed with html.parser!\")\n",
    "# Find all tables in the parsed HTML\n",
    "tables = soup.find_all('table')\n",
    "print(f\"Found {len(tables)} table(s) in the HTML\")\n",
    "\n",
    "# Example: Show first table's HTML\n",
    "if len(tables) > 0:\n",
    "    print(tables[0].prettify()[:200])  # First 200 chars of formatted HTML"
   ]
  },
  {
   "cell_type": "markdown",
   "id": "7f33fe6f-483f-4f2c-82e7-990678f35f8b",
   "metadata": {},
   "source": [
    "from bs4 Using `BeautifulSoup` or the `read_html` function extract the table with `GameStop Revenue` and store it into a dataframe named `gme_revenue`. The dataframe should have columns `Date` and `Revenue`. Make sure the comma and dollar sign is removed from the `Revenue` column.L"
   ]
  },
  {
   "cell_type": "code",
   "execution_count": 23,
   "id": "dbf82b4a-b6b5-4772-89bb-1907b9fb09e8",
   "metadata": {},
   "outputs": [
    {
     "name": "stdout",
     "output_type": "stream",
     "text": [
      "Requirement already satisfied: lxml in c:\\users\\asus\\anaconda3\\lib\\site-packages (5.2.1)\n",
      "Requirement already satisfied: html5lib in c:\\users\\asus\\anaconda3\\lib\\site-packages (1.1)\n",
      "Requirement already satisfied: beautifulsoup4 in c:\\users\\asus\\anaconda3\\lib\\site-packages (4.12.3)\n",
      "Requirement already satisfied: six>=1.9 in c:\\users\\asus\\anaconda3\\lib\\site-packages (from html5lib) (1.16.0)\n",
      "Requirement already satisfied: webencodings in c:\\users\\asus\\anaconda3\\lib\\site-packages (from html5lib) (0.5.1)\n",
      "Requirement already satisfied: soupsieve>1.2 in c:\\users\\asus\\anaconda3\\lib\\site-packages (from beautifulsoup4) (2.5)\n"
     ]
    }
   ],
   "source": [
    "!pip install lxml html5lib beautifulsoup4"
   ]
  },
  {
   "cell_type": "code",
   "execution_count": 24,
   "id": "92677b11-5f62-4a1c-9bc7-b5d2dd8c3746",
   "metadata": {},
   "outputs": [
    {
     "name": "stdout",
     "output_type": "stream",
     "text": [
      "First 5 rows of cleaned data:\n",
      "         Date  Revenue\n",
      "0  2020-04-30   1021.0\n",
      "1  2020-01-31   2194.0\n",
      "2  2019-10-31   1439.0\n",
      "3  2019-07-31   1286.0\n",
      "4  2019-04-30   1548.0\n",
      "\n",
      "Data types:\n",
      "Date        object\n",
      "Revenue    float64\n",
      "dtype: object\n"
     ]
    }
   ],
   "source": [
    "import pandas as pd\n",
    "from bs4 import BeautifulSoup\n",
    "\n",
    "# Parse the HTML data\n",
    "soup = BeautifulSoup(html_data_2, 'html.parser')\n",
    "\n",
    "# METHOD 1: Using BeautifulSoup (precise extraction)\n",
    "# Find the table containing \"GameStop Quarterly Revenue\" text\n",
    "for table in soup.find_all('table'):\n",
    "    if 'GameStop Quarterly Revenue' in table.get_text():\n",
    "        gme_revenue = pd.read_html(str(table), header=0)[0]\n",
    "        break\n",
    "\n",
    "# METHOD 2: Alternative using pandas read_html (simpler)\n",
    "# tables = pd.read_html(html_data_2)\n",
    "# gme_revenue = tables[1]  # Usually the second table\n",
    "\n",
    "# Standardize column names and clean data\n",
    "gme_revenue.columns = ['Date', 'Revenue']  # Rename columns\n",
    "\n",
    "# Remove dollar signs and commas, then convert to numeric\n",
    "gme_revenue['Revenue'] = (gme_revenue['Revenue']\n",
    "                          .str.replace(r'[$,]', '', regex=True)  # Remove $ and commas\n",
    "                          .astype(float))  # Convert to numeric\n",
    "\n",
    "# Remove any empty rows\n",
    "gme_revenue = gme_revenue.dropna()\n",
    "\n",
    "# Verify the cleaned data\n",
    "print(\"First 5 rows of cleaned data:\")\n",
    "print(gme_revenue.head())\n",
    "print(\"\\nData types:\")\n",
    "print(gme_revenue.dtypes)"
   ]
  },
  {
   "cell_type": "markdown",
   "id": "8be78736-4aa2-4d9a-ab85-a89bcc86c409",
   "metadata": {},
   "source": [
    "Display the last five rows of the gme_revenue dataframe using the tail function. Take a screenshot of the results."
   ]
  },
  {
   "cell_type": "code",
   "execution_count": 26,
   "id": "18698d48-5d03-47eb-bd46-bca1e420844b",
   "metadata": {},
   "outputs": [
    {
     "name": "stdout",
     "output_type": "stream",
     "text": [
      "Last 5 rows of GameStop Revenue Data:\n",
      "          Date  Revenue\n",
      "57  2006-01-31   1667.0\n",
      "58  2005-10-31    534.0\n",
      "59  2005-07-31    416.0\n",
      "60  2005-04-30    475.0\n",
      "61  2005-01-31    709.0\n"
     ]
    }
   ],
   "source": [
    "# Display the last 5 rows of the cleaned DataFrame\n",
    "print(\"Last 5 rows of GameStop Revenue Data:\")\n",
    "print(gme_revenue.tail())\n",
    "\n",
    "# Optional: Save to CSV for verification\n",
    "gme_revenue.to_csv('gme_revenue_cleaned.csv', index=False)"
   ]
  },
  {
   "cell_type": "markdown",
   "id": "beaa1665-a85d-45e6-9ea5-34ccbccc2b33",
   "metadata": {},
   "source": [
    "Question 5: Plot Tesla Stock Graph\n",
    "Use the make_graph function to graph the Tesla Stock Data, also provide a title for the graph. Note the graph will only show data upto June 2021."
   ]
  },
  {
   "cell_type": "code",
   "execution_count": 27,
   "id": "bd7a2cc9-0b9b-48bf-84a9-39b6de45e7ae",
   "metadata": {},
   "outputs": [
    {
     "name": "stdout",
     "output_type": "stream",
     "text": [
      "Requirement already satisfied: matplotlib in c:\\users\\asus\\anaconda3\\lib\\site-packages (3.9.2)\n",
      "Requirement already satisfied: contourpy>=1.0.1 in c:\\users\\asus\\anaconda3\\lib\\site-packages (from matplotlib) (1.2.0)\n",
      "Requirement already satisfied: cycler>=0.10 in c:\\users\\asus\\anaconda3\\lib\\site-packages (from matplotlib) (0.11.0)\n",
      "Requirement already satisfied: fonttools>=4.22.0 in c:\\users\\asus\\anaconda3\\lib\\site-packages (from matplotlib) (4.51.0)\n",
      "Requirement already satisfied: kiwisolver>=1.3.1 in c:\\users\\asus\\anaconda3\\lib\\site-packages (from matplotlib) (1.4.4)\n",
      "Requirement already satisfied: numpy>=1.23 in c:\\users\\asus\\anaconda3\\lib\\site-packages (from matplotlib) (1.26.4)\n",
      "Requirement already satisfied: packaging>=20.0 in c:\\users\\asus\\anaconda3\\lib\\site-packages (from matplotlib) (24.1)\n",
      "Requirement already satisfied: pillow>=8 in c:\\users\\asus\\anaconda3\\lib\\site-packages (from matplotlib) (10.4.0)\n",
      "Requirement already satisfied: pyparsing>=2.3.1 in c:\\users\\asus\\anaconda3\\lib\\site-packages (from matplotlib) (3.1.2)\n",
      "Requirement already satisfied: python-dateutil>=2.7 in c:\\users\\asus\\anaconda3\\lib\\site-packages (from matplotlib) (2.9.0.post0)\n",
      "Requirement already satisfied: six>=1.5 in c:\\users\\asus\\anaconda3\\lib\\site-packages (from python-dateutil>=2.7->matplotlib) (1.16.0)\n"
     ]
    }
   ],
   "source": [
    "!pip install matplotlib"
   ]
  },
  {
   "cell_type": "code",
   "execution_count": 28,
   "id": "2a1b9d80-243b-42be-81ff-85e594cb5659",
   "metadata": {},
   "outputs": [
    {
     "data": {
      "image/png": "[encoded data removed]",
      "text/plain": [
       "<Figure size 1400x700 with 2 Axes>"
      ]
     },
     "metadata": {},
     "output_type": "display_data"
    }
   ],
   "source": [
    "# Filter the data up to June 2021\n",
    "import matplotlib.pyplot as plt\n",
    "\n",
    "# 1. Filter the data up to June 2021\n",
    "tesla_data_june2021 = tesla_data[tesla_data['Date'] <= '2021-06-30']\n",
    "\n",
    "# 2. Create the plot\n",
    "plt.figure(figsize=(14, 7))\n",
    "\n",
    "# Plot closing price\n",
    "plt.subplot(2, 1, 1)\n",
    "plt.plot(tesla_data_june2021['Date'], tesla_data_june2021['Close'], label='Closing Price', color='blue')\n",
    "plt.title('Tesla Stock Price (Up to June 2021)')\n",
    "plt.ylabel('Price ($)')\n",
    "plt.legend()\n",
    "\n",
    "# Plot trading volume\n",
    "plt.subplot(2, 1, 2)\n",
    "plt.bar(tesla_data_june2021['Date'], tesla_data_june2021['Volume'], color='green')\n",
    "plt.ylabel('Volume')\n",
    "\n",
    "plt.tight_layout()\n",
    "plt.show()"
   ]
  },
  {
   "cell_type": "markdown",
   "id": "5a29d8ae-1c3d-451c-abd4-8562e7e6d67a",
   "metadata": {},
   "source": [
    "Question 6: Plot GameStop Stock Graph\n",
    "Use the make_graph function to graph the GameStop Stock Data, also provide a title for the graph. The structure to call the make_graph function is make_graph(gme_data, gme_revenue, 'GameStop'). Note the graph will only show data upto June 2021."
   ]
  },
  {
   "cell_type": "code",
   "execution_count": 31,
   "id": "9bdd797e-1008-4214-839d-0d2722e07234",
   "metadata": {},
   "outputs": [
    {
     "data": {
      "image/png": "[encoded data removed]",
      "text/plain": [
       "<Figure size 1400x700 with 1 Axes>"
      ]
     },
     "metadata": {},
     "output_type": "display_data"
    }
   ],
   "source": [
    "import pandas as pd\n",
    "import matplotlib.pyplot as plt\n",
    "\n",
    "# 1. First ensure we have the required data\n",
    "# (Assuming gme_data and gme_revenue are already loaded from previous steps)\n",
    "\n",
    "# 2. Convert dates properly\n",
    "gme_data['Date'] = pd.to_datetime(gme_data['Date'])\n",
    "\n",
    "# 3. Filter data up to June 2021\n",
    "gme_data_june2021 = gme_data[gme_data['Date'] <= '2021-06-30']\n",
    "\n",
    "# 4. Create the plot\n",
    "plt.figure(figsize=(14, 7))\n",
    "plt.plot(gme_data_june2021['Date'], gme_data_june2021['Close'], color='red', linewidth=2)\n",
    "plt.title('GameStop Stock Price (Up to June 2021)', fontsize=16, pad=20)\n",
    "plt.ylabel('Price ($)', fontsize=14)\n",
    "plt.xlabel('Date', fontsize=14)\n",
    "plt.grid(True, alpha=0.3)\n",
    "\n",
    "# Highlight key periods\n",
    "plt.axvspan(pd.to_datetime('2021-01-01'), pd.to_datetime('2021-01-31'),\n",
    "            color='orange', alpha=0.2, label='Jan 2021 Short Squeeze')\n",
    "plt.legend(fontsize=12)\n",
    "\n",
    "# Format x-axis dates\n",
    "plt.gca().xaxis.set_major_formatter(plt.matplotlib.dates.DateFormatter('%Y-%m'))\n",
    "plt.xticks(rotation=45)\n",
    "\n",
    "plt.tight_layout()\n",
    "plt.show()"
   ]
  },
  {
   "cell_type": "code",
   "execution_count": null,
   "id": "9e79c907-8558-41e2-b710-2842b62fe6f5",
   "metadata": {},
   "outputs": [],
   "source": []
  }
 ],
 "metadata": {
  "kernelspec": {
   "display_name": "Python 3 (ipykernel)",
   "language": "python",
   "name": "python3"
  },
  "language_info": {
   "codemirror_mode": {
    "name": "ipython",
    "version": 3
   },
   "file_extension": ".py",
   "mimetype": "text/x-python",
   "name": "python",
   "nbconvert_exporter": "python",
   "pygments_lexer": "ipython3",
   "version": "3.12.7"
  }
 },
 "nbformat": 4,
 "nbformat_minor": 5
}
